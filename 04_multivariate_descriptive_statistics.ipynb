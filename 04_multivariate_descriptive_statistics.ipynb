{
 "cells": [
  {
   "cell_type": "markdown",
   "metadata": {},
   "source": [
    "## Context"
   ]
  },
  {
   "cell_type": "markdown",
   "metadata": {},
   "source": [
    "## Objective\n",
    "\n",
    "- Explore and visualize the dataset (first part)\n",
    "\n",
    "\n",
    "### Overall solution design :\n",
    "\n",
    "The potential solution design would look like this:\n",
    "\n",
    "- Checking the data description to get the idea of basic statistics or summary of data.\n",
    "- Univariate analysis to see how data is spread out, getting to know about the outliers.\n",
    "- Bivariate analysis to see how different attributes vary with the dependent variable.\n",
    "- Outlier treatment if needed.\n",
    "- Missing value treatment using appropriate techniques.\n",
    "- Feature engineering - transforming features, creating new features if possible.\n",
    "- Choosing the model evaluation technique - 1) R Squared 2) RMSE can be any other metrics related to regression analysis.\n",
    "- Splitting the data and proceeding with modeling.\n"
   ]
  },
  {
   "cell_type": "markdown",
   "metadata": {},
   "source": [
    "## Importing the necessary libraries and overview of the dataset"
   ]
  },
  {
   "cell_type": "code",
   "execution_count": 1,
   "metadata": {},
   "outputs": [
    {
     "data": {
      "text/plain": [
       "0"
      ]
     },
     "execution_count": 1,
     "metadata": {},
     "output_type": "execute_result"
    }
   ],
   "source": [
    "# Importing the basic libraries we will require for the project\n",
    "\n",
    "# Import libraries for data manipulation\n",
    "import pandas as pd\n",
    "import numpy as np\n",
    "import os\n",
    "# Import libraries for data visualization\n",
    "import matplotlib.pyplot as plt\n",
    "\n",
    "# Slightly advanced library for data visualization            \n",
    "import seaborn as sns      \n",
    "\n",
    "# Import necessary modules\n",
    "import geopandas as gpd\n",
    "from geopy.exc import GeocoderTimedOut, GeocoderServiceError\n",
    "\n",
    "# import module for geoencoding\n",
    "from geopy.geocoders import Nominatim\n",
    "\n",
    "#We can use the function identify_nominal_columns(dataset) of the dython library to identify the categorical variables in the dataset.\n",
    "from dython.nominal import associations\n",
    "\n",
    "# add sleep time\n",
    "from time import sleep\n",
    "\n",
    "import logging\n",
    "\n",
    "# Set up the color sheme:\n",
    "import mapclassify as mc\n",
    "\n",
    "# to compute zscores: https://pypi.org/project/cgmzscore/\n",
    "# Resource R: https://rdrr.io/github/WorldHealthOrganization/anthroplus/man/anthroplus_zscores.html\n",
    "#from cgmzscore.src.main import z_score_lhfa\n",
    "#from cgmzscore.src.main import z_score_wfa\n",
    "#import ast\n",
    "#https://github.com/ewheeler/pygrowup\n",
    "#from pygrowup import Observation\n",
    "#from decimal import Decimal\n",
    "\n",
    "import datetime\n",
    "# Release memory using gc : The gc module to manually trigger garbage collection. \n",
    "# Garbage collection is the process of freeing memory that is no longer being used by the program. \n",
    "# By manually triggering garbage collection, you can release memory that is no longer needed.\n",
    "import gc\n",
    "\n",
    "gc.collect()\n"
   ]
  },
  {
   "cell_type": "markdown",
   "metadata": {},
   "source": [
    "Activate R in python. Install the *tidyverse* and *gtsummary* packages."
   ]
  },
  {
   "cell_type": "markdown",
   "metadata": {},
   "source": [
    "## Loading the data"
   ]
  },
  {
   "cell_type": "code",
   "execution_count": null,
   "metadata": {},
   "outputs": [],
   "source": [
    "%%R\n",
    "# Round 1 datasets\n",
    "\n",
    "# Read excel files data for R1 and R2\n",
    "df_r1_hh <- readxl::read_excel(\"output/data/r1_hh.xlsx\")\n",
    "\n",
    "\n",
    "df_r1_hh = pd.read_excel(os.getcwd() + '\\\\output\\\\data\\\\r1_hh.xlsx') \n",
    "df_r1_anthr1 = pd.read_excel(os.getcwd() + '\\\\output\\\\data\\\\r1_overfive.xlsx') \n",
    "df_r1_anthr2 = pd.read_excel(os.getcwd() + '\\\\output\\\\data\\\\r1_underfive.xlsx') \n",
    "\n",
    "# Round 2 datasets\n",
    "df_r2_hh <- readxl::read_excel(paste0(getwd(),\"output/data/r2_hh.xlsx\"))\n",
    "df_r2_hh = pd.read_excel(os.getcwd() + '\\\\output\\\\data\\\\r2_hh.xlsx') \n",
    "df_r2_anthr1 = pd.read_excel(os.getcwd() + '\\\\output\\\\data\\\\r2_overfive.xlsx') \n",
    "df_r2_anthr2 = pd.read_excel(os.getcwd() + '\\\\output\\\\data\\\\r2_underfive.xlsx') \n",
    "\n",
    "# Round 3 datasets\n",
    "df_r3_hh <- readxl::read_excel(paste0(getwd(),\"/output/data/r3_hh.xlsx\"))\n",
    "df_r3_anthr1 = pd.read_excel(os.getcwd() + '\\\\output\\\\data\\\\r3_overfive.xlsx') \n",
    "df_r3_anthr2 = pd.read_excel(os.getcwd() + '\\\\output\\\\data\\\\r3_underfive.xlsx') \n",
    "\n",
    "# Importing the Bangladesh raw map: Reading a shapefile containing administrative boundaries of Bangladesh\n",
    "bgd_adm = gpd.read_file(os.getcwd() + '\\\\input\\\\shapefile_data\\\\shapefile_zip\\\\BGD_adm\\\\BGD_adm3.shp')"
   ]
  }
 ],
 "metadata": {
  "kernelspec": {
   "display_name": "my_venv",
   "language": "python",
   "name": "python3"
  },
  "language_info": {
   "codemirror_mode": {
    "name": "ipython",
    "version": 3
   },
   "file_extension": ".py",
   "mimetype": "text/x-python",
   "name": "python",
   "nbconvert_exporter": "python",
   "pygments_lexer": "ipython3",
   "version": "3.12.1"
  }
 },
 "nbformat": 4,
 "nbformat_minor": 2
}
